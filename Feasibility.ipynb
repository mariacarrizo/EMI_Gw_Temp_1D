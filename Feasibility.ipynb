{
 "cells": [
  {
   "cell_type": "code",
   "execution_count": 1,
   "id": "5132f856-dc5e-48c6-82de-b97224051456",
   "metadata": {},
   "outputs": [],
   "source": [
    "# Experiment case\n",
    "\n",
    "# Assuming you know the parameters of the sandy clay and the unsaturated fine sands\n"
   ]
  },
  {
   "cell_type": "code",
   "execution_count": 2,
   "id": "77ff584d-724b-406a-bc7f-59943bd781a9",
   "metadata": {},
   "outputs": [],
   "source": [
    "# Import Libraries\n",
    "\n",
    "import numpy as np\n",
    "import matplotlib.pyplot as plt\n",
    "from empymod import filters\n",
    "import pygimli as pg\n",
    "import sys\n",
    "sys.path.insert(1, 'src')\n",
    "\n",
    "# Load function that performs global search in lookup table\n",
    "from EM1D import EMf_3Lay_HVP, EMf_3Lay_Opt_HVP_cons, EMf_3Lay_HVP_d"
   ]
  },
  {
   "cell_type": "code",
   "execution_count": 3,
   "id": "1b4eb173-d701-45eb-a05b-b2fe80513a12",
   "metadata": {},
   "outputs": [],
   "source": [
    "# Settings for measurements simulations\n",
    "\n",
    "# Define hankel filter\n",
    "filt = filters.key_201_2012() \n",
    "\n",
    "# Define EMI instrument geometry\n",
    "offsets = np.array([2, 4, 8]) # in meters\n",
    "height = 0.10 # meters height from ground surface to center of coils\n",
    "freq = 9000 # Frequency in Hz\n",
    "# Lambda numbers\n",
    "lambd = filt.base/offsets[:,np.newaxis] "
   ]
  },
  {
   "cell_type": "code",
   "execution_count": 33,
   "id": "2505067a-72a7-4819-bf8b-844a50ccf659",
   "metadata": {},
   "outputs": [],
   "source": [
    "def rmse(y_obs, y_pred):\n",
    "    L2 = np.sqrt(np.sum(((y_obs-y_pred)/y_obs)**2))\n",
    "    return L2"
   ]
  },
  {
   "cell_type": "code",
   "execution_count": 4,
   "id": "9ee8e088-a480-4b30-9020-74b3d9923367",
   "metadata": {},
   "outputs": [],
   "source": [
    "ini_temp = 10\n",
    "end_temp = 51\n",
    "\n",
    "T = np.linspace(ini_temp, end_temp, 41, endpoint=False)\n",
    "sigma_25 = 43\n",
    "m = 0.020\n",
    "\n",
    "sigma_bulk = (m * (T - 25) + 1) * sigma_25"
   ]
  },
  {
   "cell_type": "code",
   "execution_count": 5,
   "id": "c7ab44c5-39b9-48fa-acb8-9a6e04ba7e70",
   "metadata": {},
   "outputs": [],
   "source": [
    "# Experiment parameters:\n",
    "sigma_fs1 = 10 # mS/m sigma fine sand unsaturated\n",
    "sigma_sc  = 350 # mS/m sigma of sandy clay\n",
    "h1 = 2 # Thickness of first layer\n",
    "h2 = 2.4 # Thickness of second layer\n",
    "depth2 = h1 + h2\n",
    "dmax = 12\n",
    "\n",
    "# Temperature at each Time step\n",
    "T_TS1 = 10\n",
    "T_TS2 = 20\n",
    "T_TS3 = 30\n",
    "T_TS4 = 40\n",
    "T_TS5 = 50\n",
    "\n",
    "# Defining sigma_fs2 for each time step\n",
    "sigma_fs2_TS1 = sigma_bulk[np.argwhere(T == T_TS1)[0][0]]\n",
    "sigma_fs2_TS2 = sigma_bulk[np.argwhere(T == T_TS2)[0][0]]\n",
    "sigma_fs2_TS3 = sigma_bulk[np.argwhere(T == T_TS3)[0][0]]\n",
    "sigma_fs2_TS4 = sigma_bulk[np.argwhere(T == T_TS4)[0][0]]\n",
    "sigma_fs2_TS5 = sigma_bulk[np.argwhere(T == T_TS5)[0][0]]\n",
    "\n",
    "# Define EC models\n",
    "model_TS1 = np.array([sigma_fs1, sigma_fs2_TS1, sigma_sc, sigma_sc])\n",
    "model_TS2 = np.array([sigma_fs1, sigma_fs2_TS2, sigma_sc, sigma_sc])\n",
    "model_TS3 = np.array([sigma_fs1, sigma_fs2_TS3, sigma_sc, sigma_sc]) \n",
    "model_TS4 = np.array([sigma_fs1, sigma_fs2_TS4, sigma_sc, sigma_sc]) \n",
    "model_TS5 = np.array([sigma_fs1, sigma_fs2_TS5, sigma_sc, sigma_sc]) \n",
    "\n",
    "depths = np.array([0, -h1, -h1 - h2, -dmax])\n",
    "\n",
    "# Simulate measurements\n",
    "# Note: Sigmas in unit of S/m\n",
    "\n",
    "data_TS1 = EMf_3Lay_HVP(lambd = lambd, sigma1 = sigma_fs1/1000, sigma2 = sigma_fs2_TS1/1000, \n",
    "                        sigma3 = sigma_sc/1000, h1 = h1, h2 = h2, height = height, offsets = offsets,\n",
    "                         freq = freq, filt = filt)\n",
    "\n",
    "data_TS2 = EMf_3Lay_HVP(lambd = lambd, sigma1 = sigma_fs1/1000, sigma2 = sigma_fs2_TS2/1000, \n",
    "                        sigma3 = sigma_sc/1000, h1 = h1, h2 = h2, height = height, offsets = offsets,\n",
    "                         freq = freq, filt = filt)\n",
    "\n",
    "data_TS3 = EMf_3Lay_HVP(lambd = lambd, sigma1 = sigma_fs1/1000, sigma2 = sigma_fs2_TS3/1000, \n",
    "                        sigma3 = sigma_sc/1000, h1 = h1, h2 = h2, height = height, offsets = offsets,\n",
    "                         freq = freq, filt = filt)\n",
    "\n",
    "data_TS4 = EMf_3Lay_HVP(lambd = lambd, sigma1 = sigma_fs1/1000, sigma2 = sigma_fs2_TS4/1000, \n",
    "                        sigma3 = sigma_sc/1000, h1 = h1, h2 = h2, height = height, offsets = offsets,\n",
    "                         freq = freq, filt = filt)\n",
    "\n",
    "data_TS5 = EMf_3Lay_HVP(lambd = lambd, sigma1 = sigma_fs1/1000, sigma2 = sigma_fs2_TS5/1000, \n",
    "                        sigma3 = sigma_sc/1000, h1 = h1, h2 = h2, height = height, offsets = offsets,\n",
    "                         freq = freq, filt = filt)"
   ]
  },
  {
   "cell_type": "code",
   "execution_count": 15,
   "id": "6794ce03-d185-497c-9fb6-000e7b9211de",
   "metadata": {},
   "outputs": [
    {
     "name": "stderr",
     "output_type": "stream",
     "text": [
      "16/04/24 - 01:34:41 - pyGIMLi - \u001b[0;32;49mINFO\u001b[0m - Created startmodel from forward operator: 3, min/max=0.050000/2.000000\n"
     ]
    }
   ],
   "source": [
    "# Initialize the forward modelling class \n",
    "EMf = EMf_3Lay_Opt_HVP_cons(lambd, height, offsets, freq, filt, sigma1 = sigma_fs1/1000, sigma3 = sigma_sc/1000)\n",
    "\n",
    "# Define inversion framework from pygimli\n",
    "invEM = pg.Inversion()\n",
    "invEM.setForwardOperator(EMf) # set forward operator\n",
    "\n",
    "transModel = pg.trans.TransLogLU(0.01,3) \n",
    "invEM.modelTrans = transModel\n",
    "\n",
    "# Relative error array\n",
    "error = 1e-3 # relative error\n",
    "relativeError = np.ones_like(data_TS1) * error\n",
    "\n",
    "# Start inversion\n",
    "model_3Lay_est_TS1 = invEM.run(data_TS1, relativeError, verbose=False)\n",
    "\n",
    "# Data from estimated model\n",
    "data_3Lay_est_TS1 = EMf_3Lay_HVP(lambd, \n",
    "                             sigma1 = sigma_fs1/1000,\n",
    "                             sigma2 = model_3Lay_est_TS1[0],\n",
    "                             sigma3 = sigma_sc/1000,\n",
    "                             h1 = model_3Lay_est_TS1[1],\n",
    "                             h2 = model_3Lay_est_TS1[2],\n",
    "                             height = height,\n",
    "                             offsets = offsets,\n",
    "                             freq = freq,\n",
    "                             filt = filt)"
   ]
  },
  {
   "cell_type": "code",
   "execution_count": 11,
   "id": "7ae03215-91b0-4545-bd20-49639aad56cc",
   "metadata": {},
   "outputs": [
    {
     "name": "stderr",
     "output_type": "stream",
     "text": [
      "16/04/24 - 01:30:22 - pyGIMLi - \u001b[0;32;49mINFO\u001b[0m - Created startmodel from forward operator: 3, min/max=0.050000/2.000000\n"
     ]
    }
   ],
   "source": [
    "# Initialize the forward modelling class \n",
    "EMf = EMf_3Lay_Opt_HVP_cons(lambd, height, offsets, freq, filt, sigma1 = sigma_fs1/1000, sigma3 = sigma_sc/1000)\n",
    "\n",
    "# Define inversion framework from pygimli\n",
    "invEM = pg.Inversion()\n",
    "invEM.setForwardOperator(EMf) # set forward operator\n",
    "\n",
    "transModel = pg.trans.TransLogLU(0.01,3) \n",
    "invEM.modelTrans = transModel\n",
    "\n",
    "# Relative error array\n",
    "error = 1e-3 # relative error\n",
    "relativeError = np.ones_like(data_TS1) * error\n",
    "\n",
    "# Start inversion\n",
    "model_3Lay_est_TS2 = invEM.run(data_TS2, relativeError, verbose=False)\n",
    "\n",
    "# Data from estimated model\n",
    "data_3Lay_est_TS2 = EMf_3Lay_HVP(lambd, \n",
    "                             sigma1 = sigma_fs1/1000,\n",
    "                             sigma2 = model_3Lay_est_TS2[0],\n",
    "                             sigma3 = sigma_sc/1000,\n",
    "                             h1 = model_3Lay_est_TS2[1],\n",
    "                             h2 = model_3Lay_est_TS2[2],\n",
    "                             height = height,\n",
    "                             offsets = offsets,\n",
    "                             freq = freq,\n",
    "                             filt = filt)"
   ]
  },
  {
   "cell_type": "code",
   "execution_count": 12,
   "id": "d7a90a4e-d6a5-4353-b979-3fa23aff9fc9",
   "metadata": {},
   "outputs": [
    {
     "name": "stderr",
     "output_type": "stream",
     "text": [
      "16/04/24 - 01:31:23 - pyGIMLi - \u001b[0;32;49mINFO\u001b[0m - Created startmodel from forward operator: 3, min/max=0.050000/2.000000\n"
     ]
    }
   ],
   "source": [
    "# Initialize the forward modelling class \n",
    "EMf = EMf_3Lay_Opt_HVP_cons(lambd, height, offsets, freq, filt, sigma1 = sigma_fs1/1000, sigma3 = sigma_sc/1000)\n",
    "\n",
    "# Define inversion framework from pygimli\n",
    "invEM = pg.Inversion()\n",
    "invEM.setForwardOperator(EMf) # set forward operator\n",
    "\n",
    "transModel = pg.trans.TransLogLU(0.01,3) \n",
    "invEM.modelTrans = transModel\n",
    "\n",
    "# Relative error array\n",
    "error = 1e-3 # relative error\n",
    "relativeError = np.ones_like(data_TS3) * error\n",
    "\n",
    "# Start inversion\n",
    "model_3Lay_est_TS3 = invEM.run(data_TS3, relativeError, verbose=False)\n",
    "\n",
    "# Data from estimated model\n",
    "data_3Lay_est_TS3 = EMf_3Lay_HVP(lambd, \n",
    "                             sigma1 = sigma_fs1/1000,\n",
    "                             sigma2 = model_3Lay_est_TS3[0],\n",
    "                             sigma3 = sigma_sc/1000,\n",
    "                             h1 = model_3Lay_est_TS3[1],\n",
    "                             h2 = model_3Lay_est_TS3[2],\n",
    "                             height = height,\n",
    "                             offsets = offsets,\n",
    "                             freq = freq,\n",
    "                             filt = filt)"
   ]
  },
  {
   "cell_type": "code",
   "execution_count": 13,
   "id": "e9ec9858-4c1d-41a3-aa1a-f45373d839a5",
   "metadata": {},
   "outputs": [
    {
     "name": "stderr",
     "output_type": "stream",
     "text": [
      "16/04/24 - 01:32:23 - pyGIMLi - \u001b[0;32;49mINFO\u001b[0m - Created startmodel from forward operator: 3, min/max=0.050000/2.000000\n"
     ]
    },
    {
     "name": "stdout",
     "output_type": "stream",
     "text": [
      "\n",
      "\n"
     ]
    }
   ],
   "source": [
    "# Initialize the forward modelling class \n",
    "EMf = EMf_3Lay_Opt_HVP_cons(lambd, height, offsets, freq, filt, sigma1 = sigma_fs1/1000, sigma3 = sigma_sc/1000)\n",
    "\n",
    "# Define inversion framework from pygimli\n",
    "invEM = pg.Inversion()\n",
    "invEM.setForwardOperator(EMf) # set forward operator\n",
    "\n",
    "transModel = pg.trans.TransLogLU(0.01,3) \n",
    "invEM.modelTrans = transModel\n",
    "\n",
    "# Relative error array\n",
    "error = 1e-3 # relative error\n",
    "relativeError = np.ones_like(data_TS4) * error\n",
    "\n",
    "# Start inversion\n",
    "model_3Lay_est_TS4 = invEM.run(data_TS4, relativeError, verbose=False)\n",
    "\n",
    "# Data from estimated model\n",
    "data_3Lay_est_TS4 = EMf_3Lay_HVP(lambd, \n",
    "                             sigma1 = sigma_fs1/1000,\n",
    "                             sigma2 = model_3Lay_est_TS4[0],\n",
    "                             sigma3 = sigma_sc/1000,\n",
    "                             h1 = model_3Lay_est_TS4[1],\n",
    "                             h2 = model_3Lay_est_TS4[2],\n",
    "                             height = height,\n",
    "                             offsets = offsets,\n",
    "                             freq = freq,\n",
    "                             filt = filt)"
   ]
  },
  {
   "cell_type": "code",
   "execution_count": 14,
   "id": "ac2e5fbf-6e6b-4d31-9f9b-978e75262a05",
   "metadata": {},
   "outputs": [
    {
     "name": "stderr",
     "output_type": "stream",
     "text": [
      "16/04/24 - 01:33:08 - pyGIMLi - \u001b[0;32;49mINFO\u001b[0m - Created startmodel from forward operator: 3, min/max=0.050000/2.000000\n"
     ]
    },
    {
     "name": "stdout",
     "output_type": "stream",
     "text": [
      "\n",
      "\n"
     ]
    }
   ],
   "source": [
    "# Initialize the forward modelling class \n",
    "EMf = EMf_3Lay_Opt_HVP_cons(lambd, height, offsets, freq, filt, sigma1 = sigma_fs1/1000, sigma3 = sigma_sc/1000)\n",
    "\n",
    "# Define inversion framework from pygimli\n",
    "invEM = pg.Inversion()\n",
    "invEM.setForwardOperator(EMf) # set forward operator\n",
    "\n",
    "transModel = pg.trans.TransLogLU(0.01,3) \n",
    "invEM.modelTrans = transModel\n",
    "\n",
    "# Relative error array\n",
    "error = 1e-3 # relative error\n",
    "relativeError = np.ones_like(data_TS5) * error\n",
    "\n",
    "# Start inversion\n",
    "model_3Lay_est_TS5 = invEM.run(data_TS5, relativeError, verbose=False)\n",
    "\n",
    "# Data from estimated model\n",
    "data_3Lay_est_TS5 = EMf_3Lay_HVP(lambd, \n",
    "                             sigma1 = sigma_fs1/1000,\n",
    "                             sigma2 = model_3Lay_est_TS5[0],\n",
    "                             sigma3 = sigma_sc/1000,\n",
    "                             h1 = model_3Lay_est_TS5[1],\n",
    "                             h2 = model_3Lay_est_TS5[2],\n",
    "                             height = height,\n",
    "                             offsets = offsets,\n",
    "                             freq = freq,\n",
    "                             filt = filt)"
   ]
  },
  {
   "cell_type": "code",
   "execution_count": 42,
   "id": "c7f57c1c-357b-40dc-94e4-13c9e52e1b51",
   "metadata": {},
   "outputs": [
    {
     "name": "stderr",
     "output_type": "stream",
     "text": [
      "16/04/24 - 01:56:12 - matplotlib.backends.backend_ps - \u001b[0;33;49mWARNING\u001b[0m - The PostScript backend does not support transparency; partially transparent artists will be rendered opaque.\n"
     ]
    },
    {
     "data": {
      "image/png": "[encoded data removed]",
      "text/plain": [
       "<Figure size 640x480 with 1 Axes>"
      ]
     },
     "metadata": {},
     "output_type": "display_data"
    }
   ],
   "source": [
    "# Plot the models\n",
    "\n",
    "def PlotModel(model, depths, ax=None, model_name=None, style='-', color='tomato'):\n",
    "    if ax is None:\n",
    "        fig, ax = plt.subplots()\n",
    "    fs=7\n",
    "    ax.step(model, depths, style, c=color, label=model_name)\n",
    "    ax.set_xscale('log')\n",
    "    ax.set_xlabel('Electrical conductivity [mS/m]')\n",
    "    ax.set_ylabel('Depth [m]')\n",
    "    if model_name is not None:\n",
    "        ax.legend(fontsize=fs)\n",
    "    plt.tight_layout()\n",
    "\n",
    "# For plots\n",
    "\n",
    "sigma_est_TS1 = np.array(([sigma_fs1/1000, model_3Lay_est_TS1[0], sigma_sc/1000, sigma_sc/1000]))\n",
    "depths_est_TS1 = np.array([0, -model_3Lay_est_TS1[1], -model_3Lay_est_TS1[1]-model_3Lay_est_TS1[2], -dmax])\n",
    "\n",
    "sigma_est_TS2 = np.array(([sigma_fs1/1000, model_3Lay_est_TS2[0], sigma_sc/1000, sigma_sc/1000]))\n",
    "depths_est_TS2 = np.array([0, -model_3Lay_est_TS2[1], -model_3Lay_est_TS2[1]-model_3Lay_est_TS2[2], -dmax])\n",
    "\n",
    "sigma_est_TS3 = np.array(([sigma_fs1/1000, model_3Lay_est_TS3[0], sigma_sc/1000, sigma_sc/1000]))\n",
    "depths_est_TS3 = np.array([0, -model_3Lay_est_TS3[1], -model_3Lay_est_TS3[1]-model_3Lay_est_TS3[2], -dmax])\n",
    "\n",
    "sigma_est_TS4 = np.array(([sigma_fs1/1000, model_3Lay_est_TS4[0], sigma_sc/1000, sigma_sc/1000]))\n",
    "depths_est_TS4 = np.array([0, -model_3Lay_est_TS4[1], -model_3Lay_est_TS4[1]-model_3Lay_est_TS4[2], -dmax])\n",
    "\n",
    "sigma_est_TS5 = np.array(([sigma_fs1/1000, model_3Lay_est_TS5[0], sigma_sc/1000, sigma_sc/1000]))\n",
    "depths_est_TS5 = np.array([0, -model_3Lay_est_TS5[1], -model_3Lay_est_TS5[1]-model_3Lay_est_TS5[2], -dmax])\n",
    "\n",
    "fig, ax = plt.subplots()\n",
    "\n",
    "PlotModel(model_TS1, depths, model_name = 'True TS1', ax=ax, style='-', color='coral')\n",
    "PlotModel(sigma_est_TS1*1000, depths_est_TS1, model_name='Estimated TS1', ax=ax, style=':', color='lightblue')\n",
    "ax.text(20, -8, '$\\chi^2$ TS1 : ' + \"{:1.3f}\".format(rmse(data_TS1, data_3Lay_est_TS1)), fontsize='small')\n",
    "\n",
    "PlotModel(model_TS2, depths, model_name = 'True TS2', ax=ax, style='-', color='tomato')\n",
    "PlotModel(sigma_est_TS2*1000, depths_est_TS2, model_name='Estimated TS2', ax=ax, style=':', color='skyblue')\n",
    "ax.text(20, -9, '$\\chi^2$ TS2 : ' + \"{:1.3f}\".format(rmse(data_TS2, data_3Lay_est_TS2)), fontsize='small')\n",
    "\n",
    "PlotModel(model_TS3, depths, model_name = 'True TS3', ax=ax, style='-', color='red')\n",
    "PlotModel(sigma_est_TS3*1000, depths_est_TS3, model_name='Estimated TS3', ax=ax, style=':', color='dodgerblue')\n",
    "ax.text(20, -10, '$\\chi^2$ TS3 : ' + \"{:1.3f}\".format(rmse(data_TS3, data_3Lay_est_TS3)), fontsize='small')\n",
    "\n",
    "PlotModel(model_TS4, depths, model_name = 'True TS4', ax=ax, style='-', color='indianred')\n",
    "PlotModel(sigma_est_TS4*1000, depths_est_TS4, model_name='Estimated TS4', ax=ax, style=':', color='steelblue')\n",
    "ax.text(20, -11, '$\\chi^2$ TS4 : ' + \"{:1.3f}\".format(rmse(data_TS4, data_3Lay_est_TS4)), fontsize='small')\n",
    "\n",
    "PlotModel(model_TS5, depths, model_name = 'True TS5', ax=ax, style='-', color='maroon')\n",
    "PlotModel(sigma_est_TS5*1000, depths_est_TS5, model_name='Estimated TS5', ax=ax, style=':', color='midnightblue')\n",
    "ax.text(20, -12, '$\\chi^2$ TS5 : ' + \"{:1.3f}\".format(rmse(data_TS4, data_3Lay_est_TS4)), fontsize='small')\n",
    "\n",
    "plt.savefig('figures/Final.eps', format='eps')"
   ]
  },
  {
   "cell_type": "code",
   "execution_count": null,
   "id": "2d36acf5-22f7-45ff-8454-a01a9c254b7b",
   "metadata": {},
   "outputs": [],
   "source": []
  }
 ],
 "metadata": {
  "kernelspec": {
   "display_name": "pg-emg3d",
   "language": "python",
   "name": "pg-emg3d"
  },
  "language_info": {
   "codemirror_mode": {
    "name": "ipython",
    "version": 3
   },
   "file_extension": ".py",
   "mimetype": "text/x-python",
   "name": "python",
   "nbconvert_exporter": "python",
   "pygments_lexer": "ipython3",
   "version": "3.11.8"
  }
 },
 "nbformat": 4,
 "nbformat_minor": 5
}
